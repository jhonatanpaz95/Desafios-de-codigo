{
 "cells": [
  {
   "cell_type": "markdown",
   "metadata": {},
   "source": [
    "Pedi para o chat gpt cria alguns desafios para eu estuda Numpy."
   ]
  },
  {
   "cell_type": "markdown",
   "metadata": {},
   "source": [
    "# Desafio 1: Operações Básicas com Arrays\n",
    "> Crie dois arrays NumPy de 1D com 10 elementos aleatórios inteiros entre 1 e 100. Em seguida, realize as seguintes operações:\n",
    "\n",
    "- Some os dois arrays.\n",
    "- Multiplique os dois arrays.\n",
    "- Encontre o valor máximo e mínimo de cada array.\n",
    "- Calcule a média e a variância de cada array."
   ]
  },
  {
   "cell_type": "code",
   "execution_count": 1,
   "metadata": {},
   "outputs": [],
   "source": [
    "import numpy as np\n"
   ]
  },
  {
   "cell_type": "code",
   "execution_count": 2,
   "metadata": {},
   "outputs": [
    {
     "name": "stdout",
     "output_type": "stream",
     "text": [
      "[ 5  8 13  9 21  6  3  5  8 15]\n",
      "[  0  15  42  14 110   9   2   6  16  50]\n",
      "[10 11]\n",
      "[4.3 5. ]\n",
      "[8.01 9.6 ]\n"
     ]
    }
   ],
   "source": [
    "# Desafio 1\n",
    "\n",
    "array1 = np.array([0, 5, 6, 7, 10, 3, 1, 2, 4, 5])\n",
    "array2 = np.array([5, 3, 7, 2, 11, 3, 2, 3, 4, 10])\n",
    "\n",
    "soma = array1 + array2\n",
    "multiplicacao = array1 * array2\n",
    "maximo = np.array([array1.max(), array2.max()])\n",
    "media = np.array([array1.mean(), array2.mean()])\n",
    "variancia = np.array([array1.var(), array2.var()])\n",
    "\n",
    "print(soma)\n",
    "print(multiplicacao)\n",
    "print(maximo)\n",
    "print(media)\n",
    "print(variancia)"
   ]
  },
  {
   "cell_type": "markdown",
   "metadata": {},
   "source": [
    "# Desafio 2: Indexação e Slicing\n",
    "> Dado um array NumPy 2D de 5x5 criado com números inteiros de 1 a 25, resolva:\n",
    "\n",
    "- Extraia a segunda linha do array.\n",
    "- Extraia a terceira coluna do array.\n",
    "- Extraia o subarray 3x3 do centro do array.\n",
    "- Substitua os valores da primeira coluna por zero."
   ]
  },
  {
   "cell_type": "code",
   "execution_count": 3,
   "metadata": {},
   "outputs": [
    {
     "name": "stdout",
     "output_type": "stream",
     "text": [
      "[ 0 10 24  8 14]\n",
      "[16 24 17 15 23]\n",
      "[[ 0  6 16  0  2]\n",
      " [ 0 10 24  8 14]\n",
      " [ 0 22 17 12 24]\n",
      " [ 0 18 15  5 11]\n",
      " [ 0  3 23  5 10]]\n",
      "[[10 24  8]\n",
      " [22 17 12]\n",
      " [18 15  5]]\n"
     ]
    }
   ],
   "source": [
    "# Desafio 2\n",
    "\n",
    "# gerar dados aleatórios\n",
    "from numpy.random import default_rng\n",
    "rng=default_rng()\n",
    "a = rng.integers(25, size= (5,5))\n",
    "\n",
    "# Definição das variaveis \n",
    "segunda_linha = a[1]\n",
    "terceira_coluna = a[:, 2]\n",
    "\n",
    "#substitui os valores da primeira coluna por zero\n",
    "a[:, 0] = 0\n",
    "\n",
    "# Extração do subarray 3x3 do centro\n",
    "subarray_centro = a[1:4, 1:4]\n",
    "\n",
    "print(segunda_linha)\n",
    "print(terceira_coluna)\n",
    "print(a)\n",
    "print(subarray_centro)\n",
    "\n",
    "\n",
    "\n"
   ]
  },
  {
   "cell_type": "markdown",
   "metadata": {},
   "source": [
    "# Desafio 3: Transformações e Redimensionamento\n",
    "> Crie um array 1D com 12 elementos inteiros aleatórios entre 1 e 50. Em seguida:\n",
    "\n",
    "- Redimensione esse array para uma matriz 3x4.\n",
    "- Transponha essa matriz.\n",
    "- Aplique a função sqrt do NumPy em todos os elementos.\n",
    "- Concatene essa matriz com uma nova matriz 3x4 de números aleatórios."
   ]
  },
  {
   "cell_type": "code",
   "execution_count": 4,
   "metadata": {},
   "outputs": [
    {
     "name": "stdout",
     "output_type": "stream",
     "text": [
      "Array original: [27  5 27 23 31 14 42 29 34 44 36 48]\n",
      "Array redimensionado:\n",
      " [[27  5 27 23]\n",
      " [31 14 42 29]\n",
      " [34 44 36 48]]\n"
     ]
    }
   ],
   "source": [
    "# criando um array aletório\n",
    "a = rng.integers(50, size=(12))\n",
    "\n",
    "# redimensionando \n",
    "\n",
    "array_redimensionado = np.resize(a, (3,4))\n",
    "\n",
    "print(f'Array original: {a}')\n",
    "print(f'Array redimensionado:\\n {array_redimensionado}')"
   ]
  },
  {
   "cell_type": "markdown",
   "metadata": {},
   "source": [
    "# Desafio 4: Estatísticas e Agregações\n",
    "> Crie um array 2D de 100x10 onde cada elemento seja um número aleatório seguindo uma distribuição normal com média 50 e desvio padrão 10. Agora:\n",
    "\n",
    "- Calcule a média de cada coluna.\n",
    "- Encontre o índice do valor máximo de cada linha.\n",
    "- Filtre o array para obter apenas os valores maiores que 60.\n",
    "- Conte quantos valores são menores que 40."
   ]
  },
  {
   "cell_type": "code",
   "execution_count": 5,
   "metadata": {},
   "outputs": [
    {
     "name": "stdout",
     "output_type": "stream",
     "text": [
      "Média de cada coluna: [49.66550026 48.49170953 52.08210358 50.71874668 49.82719326 49.78878971\n",
      " 50.18162009 49.65741673 48.95120344 48.83295607]\n",
      "valor maximo de cada linha: [58.8830303  60.65334273 57.08512445 62.0430681  61.83700074 63.97197401\n",
      " 63.07354655 67.32899836 64.24100231 64.00828887 55.87878768 72.77107923\n",
      " 64.69657593 63.95789619 65.10583646 64.59231502 66.11773395 60.81804222\n",
      " 64.0455077  59.37956247 63.76707263 63.97491189 52.8537719  63.36277731\n",
      " 60.61551933 57.06526826 59.40799124 61.14792867 69.80970929 56.04251785\n",
      " 62.93751488 60.78994206 64.33814147 66.72298497 54.08751877 66.54572206\n",
      " 61.88076708 60.87740817 65.80687803 66.61018601 61.72750748 64.08523443\n",
      " 61.99575594 68.54797001 66.42072584 64.11866113 57.06947862 65.82584944\n",
      " 59.7789405  59.85700493 63.61969941 59.65219552 59.2419455  62.71975369\n",
      " 63.53871787 68.12812691 59.90016588 59.41326713 69.80360184 58.65239907\n",
      " 63.74297648 58.12509244 76.97980307 60.90405462 57.71954881 67.98553367\n",
      " 66.69610869 74.78812995 61.86601659 62.28764372 64.57473544 68.57704746\n",
      " 75.12249731 63.11760771 60.31008154 65.19271116 60.39958357 70.2903939\n",
      " 66.58511317 69.55905396 66.29806074 52.25757447 71.43425872 70.78922221\n",
      " 76.88101814 69.47668264 67.26917534 62.09290162 69.64556136 63.37389558\n",
      " 63.77402348 63.81550135 59.45413804 62.34065394 62.74839548 63.79072516\n",
      " 65.61328164 67.59841946 67.71536736 62.0797986 ]\n",
      "valores maiores que 60: [60.65334273 61.41858217 62.0430681  61.83700074 60.43465323 63.97197401\n",
      " 61.89248868 63.07354655 62.9151095  65.565378   67.32899836 62.75963781\n",
      " 64.24100231 60.14766819 60.98363053 64.00828887 72.77107923 64.88014034\n",
      " 61.86880879 64.69657593 63.95789619 65.10583646 64.59231502 65.03131047\n",
      " 66.11773395 62.29810214 60.81804222 62.26372819 62.94118483 64.0455077\n",
      " 63.10532176 60.1837669  63.76707263 63.97491189 63.36277731 60.61551933\n",
      " 61.14792867 69.80970929 62.29747022 62.93368706 62.09959781 62.93751488\n",
      " 62.83979021 60.78994206 60.83854477 64.33814147 64.71722803 66.72298497\n",
      " 61.18642004 65.61563231 66.54572206 61.88076708 60.87740817 65.80687803\n",
      " 66.61018601 61.72750748 60.98469607 63.22281219 64.08523443 63.69277137\n",
      " 61.99575594 68.54797001 61.15253457 64.77353963 61.41176926 66.42072584\n",
      " 61.60119314 64.11866113 62.24859498 60.50439121 65.82584944 63.61969941\n",
      " 62.71975369 63.53871787 68.12812691 64.20467884 63.96823715 69.80360184\n",
      " 64.75217933 62.28563604 67.58174093 62.00218509 63.74297648 76.97980307\n",
      " 65.13683491 68.3102276  60.90405462 67.98553367 67.52302729 63.63352077\n",
      " 66.69610869 65.27200744 66.78811132 61.31257834 74.78812995 65.13142509\n",
      " 69.01014407 61.62336122 61.86601659 62.28764372 60.86077843 62.83591743\n",
      " 64.57473544 60.47481461 68.57704746 62.9097401  62.76646558 75.12249731\n",
      " 61.96452711 63.11760771 60.31008154 65.19271116 60.39958357 70.2903939\n",
      " 64.03251564 66.58511317 60.88976708 63.78100169 64.93239066 66.32360491\n",
      " 66.94737791 62.56969095 69.55905396 66.29806074 63.26571425 71.43425872\n",
      " 60.66213937 70.78922221 61.91687802 65.20102206 69.21896387 63.23502039\n",
      " 63.85831763 76.88101814 63.33195687 69.47668264 64.54327551 67.26917534\n",
      " 62.09290162 65.5944851  60.6831809  69.64556136 60.61292966 63.37389558\n",
      " 63.77402348 60.20263545 61.6220598  63.81550135 62.04868664 62.34065394\n",
      " 62.74839548 63.79072516 60.56058869 65.61328164 64.04216754 67.59841946\n",
      " 67.71536736 61.02645989 62.0797986 ]\n",
      "contagem dos valores menores que 40: 158 valores\n"
     ]
    }
   ],
   "source": [
    "# Definindo os parâmetros da distribuição normal\n",
    "media = 50\n",
    "desvio_padrao = 10\n",
    "\n",
    "# Criando o array 2D com 100 linhas e 10 colunas\n",
    "array_normal = np.random.normal(loc=media, scale=desvio_padrao, size=(100, 10))\n",
    "\n",
    "# Suponha que 'array_normal' é o array 2D de 100x10 que criamos anteriormente\n",
    "media_por_coluna = np.mean(array_normal, axis=0)\n",
    "\n",
    "# Exibindo as médias de cada coluna\n",
    "print('Média de cada coluna:', media_por_coluna)\n",
    "\n",
    "valor_maximo_linha = np.max(array_normal, axis=1)\n",
    "print('valor maximo de cada linha:', valor_maximo_linha)\n",
    "\n",
    "maior_60 = array_normal[array_normal > 60]\n",
    "print('valores maiores que 60:' , maior_60)\n",
    "\n",
    "menores_40 = len(array_normal[array_normal < 40])\n",
    "\n",
    "print(f'contagem dos valores menores que 40: {menores_40} valores')"
   ]
  },
  {
   "cell_type": "code",
   "execution_count": 24,
   "metadata": {},
   "outputs": [
    {
     "name": "stdout",
     "output_type": "stream",
     "text": [
      "dados: [ 5  6 10 20 40 50]\n",
      " ------------\n",
      "A média é: 21.833333333333332\n",
      " ------------\n",
      "O desvio é: [-16.83333333 -15.83333333 -11.83333333  -1.83333333  18.16666667\n",
      "  28.16666667]\n",
      " ------------\n",
      " a variancia é :[283.36111111 250.69444444 140.02777778   3.36111111 330.02777778\n",
      " 793.36111111] soma:1800.8333333333333\n",
      " ------------\n",
      " O desvio padrão é:17.324516988617283\n",
      " ------------\n",
      "17.324516988617283\n"
     ]
    }
   ],
   "source": [
    "# gerar dados aleatórios\n",
    "\n",
    "a = np.array([5, 6, 10, 20, 40, 50])\n",
    "\n",
    "print(f'dados: {a}\\n ------------')\n",
    "\n",
    "# encontra a media dos dados\n",
    "#media = a.mean()\n",
    "media = a.sum() / len(a)\n",
    "print(f'A média é: {media}\\n ------------')\n",
    "\n",
    "#Encontra o desvio\n",
    "desvio = a - media\n",
    "print(f'O desvio é: {desvio}\\n ------------')\n",
    "\n",
    "#Encontra a Variancia\n",
    "variancia = (desvio ** 2) # eleva ao quadrado\n",
    "print(f' a variancia é :{variancia} soma:{variancia.sum()}\\n ------------')\n",
    "\n",
    "#Econtra o desvio padrão populacional\n",
    "desvio_padrao = variancia.sum() / len(a)\n",
    "desvio_padrao = desvio_padrao ** 0.5 # tira a raiz quadrada do numero\n",
    "\n",
    "print(f' O desvio padrão é:{desvio_padrao}\\n ------------')\n",
    "print(np.std(a, ddof=0))\n",
    "\n"
   ]
  },
  {
   "cell_type": "markdown",
   "metadata": {},
   "source": [
    "População vs. Amostra: O desvio padrão populacional é usado quando você tem todos os dados da população, enquanto o desvio padrão amostral é usado quando você tem apenas uma amostra.\n",
    "Divisão por N ou N-1: No desvio padrão populacional, divide-se por  𝑁\n",
    "\n",
    "N (tamanho da população), enquanto no desvio padrão amostral divide-se por  (𝑛 −1)\n",
    "\n",
    "n−1 (tamanho da amostra menos um), para corrigir o viés.\n",
    "\n",
    "Se você está trabalhando com uma amostra e deseja estimar o desvio padrão da população com base nessa amostra, deve usar o desvio padrão amostral. Se você tem dados de toda a população, usa o desvio padrão populacional."
   ]
  },
  {
   "cell_type": "code",
   "execution_count": 30,
   "metadata": {},
   "outputs": [
    {
     "name": "stdout",
     "output_type": "stream",
     "text": [
      "18.978057505094313\n",
      "18.978057505094313\n"
     ]
    }
   ],
   "source": [
    "# DESVIO PADRÃO AMOSTRAL\n",
    "\n",
    "desvio_padrao_amostral = variancia.sum() / (len(a) -1)\n",
    "desvio_padrao_amostral = desvio_padrao_amostral ** 0.5\n",
    "\n",
    "print(desvio_padrao_amostral)\n",
    "print(np.std(a, ddof=1))\n"
   ]
  }
 ],
 "metadata": {
  "kernelspec": {
   "display_name": "base",
   "language": "python",
   "name": "python3"
  },
  "language_info": {
   "codemirror_mode": {
    "name": "ipython",
    "version": 3
   },
   "file_extension": ".py",
   "mimetype": "text/x-python",
   "name": "python",
   "nbconvert_exporter": "python",
   "pygments_lexer": "ipython3",
   "version": "3.11.7"
  }
 },
 "nbformat": 4,
 "nbformat_minor": 2
}

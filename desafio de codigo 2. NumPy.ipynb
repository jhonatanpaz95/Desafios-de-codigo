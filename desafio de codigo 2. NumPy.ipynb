{
 "cells": [
  {
   "cell_type": "markdown",
   "metadata": {},
   "source": [
    "Pedi para o chat gpt cria alguns desafios para eu estuda Numpy."
   ]
  },
  {
   "cell_type": "markdown",
   "metadata": {},
   "source": [
    "# Desafio 1: Operações Básicas com Arrays\n",
    "> Crie dois arrays NumPy de 1D com 10 elementos aleatórios inteiros entre 1 e 100. Em seguida, realize as seguintes operações:\n",
    "\n",
    "- Some os dois arrays.\n",
    "- Multiplique os dois arrays.\n",
    "- Encontre o valor máximo e mínimo de cada array.\n",
    "- Calcule a média e a variância de cada array."
   ]
  },
  {
   "cell_type": "code",
   "execution_count": 1,
   "metadata": {},
   "outputs": [],
   "source": [
    "import numpy as np\n"
   ]
  },
  {
   "cell_type": "code",
   "execution_count": 2,
   "metadata": {},
   "outputs": [
    {
     "name": "stdout",
     "output_type": "stream",
     "text": [
      "[ 5  8 13  9 21  6  3  5  8 15]\n",
      "[  0  15  42  14 110   9   2   6  16  50]\n",
      "[10 11]\n",
      "[4.3 5. ]\n",
      "[8.01 9.6 ]\n"
     ]
    }
   ],
   "source": [
    "# Desafio 1\n",
    "\n",
    "array1 = np.array([0, 5, 6, 7, 10, 3, 1, 2, 4, 5])\n",
    "array2 = np.array([5, 3, 7, 2, 11, 3, 2, 3, 4, 10])\n",
    "\n",
    "soma = array1 + array2\n",
    "multiplicacao = array1 * array2\n",
    "maximo = np.array([array1.max(), array2.max()])\n",
    "media = np.array([array1.mean(), array2.mean()])\n",
    "variancia = np.array([array1.var(), array2.var()])\n",
    "\n",
    "print(soma)\n",
    "print(multiplicacao)\n",
    "print(maximo)\n",
    "print(media)\n",
    "print(variancia)"
   ]
  },
  {
   "cell_type": "markdown",
   "metadata": {},
   "source": [
    "# Desafio 2: Indexação e Slicing\n",
    "> Dado um array NumPy 2D de 5x5 criado com números inteiros de 1 a 25, resolva:\n",
    "\n",
    "- Extraia a segunda linha do array.\n",
    "- Extraia a terceira coluna do array.\n",
    "- Extraia o subarray 3x3 do centro do array.\n",
    "- Substitua os valores da primeira coluna por zero."
   ]
  },
  {
   "cell_type": "code",
   "execution_count": 3,
   "metadata": {},
   "outputs": [
    {
     "name": "stdout",
     "output_type": "stream",
     "text": [
      "[ 0  0 19  1 23]\n",
      "[14 19 15 19 15]\n",
      "[[ 0 10 14  2  7]\n",
      " [ 0  0 19  1 23]\n",
      " [ 0  1 15 24 11]\n",
      " [ 0 21 19 10 15]\n",
      " [ 0 16 15 19 21]]\n",
      "[[ 0 19  1]\n",
      " [ 1 15 24]\n",
      " [21 19 10]]\n"
     ]
    }
   ],
   "source": [
    "# Desafio 2\n",
    "\n",
    "# gerar dados aleatórios\n",
    "from numpy.random import default_rng\n",
    "rng=default_rng()\n",
    "a = rng.integers(25, size= (5,5))\n",
    "\n",
    "# Definição das variaveis \n",
    "segunda_linha = a[1]\n",
    "terceira_coluna = a[:, 2]\n",
    "\n",
    "#substitui os valores da primeira coluna por zero\n",
    "a[:, 0] = 0\n",
    "\n",
    "# Extração do subarray 3x3 do centro\n",
    "subarray_centro = a[1:4, 1:4]\n",
    "\n",
    "print(segunda_linha)\n",
    "print(terceira_coluna)\n",
    "print(a)\n",
    "print(subarray_centro)\n",
    "\n",
    "\n",
    "\n"
   ]
  },
  {
   "cell_type": "markdown",
   "metadata": {},
   "source": [
    "# Desafio 3: Transformações e Redimensionamento\n",
    "> Crie um array 1D com 12 elementos inteiros aleatórios entre 1 e 50. Em seguida:\n",
    "\n",
    "- Redimensione esse array para uma matriz 3x4.\n",
    "- Transponha essa matriz.\n",
    "- Aplique a função sqrt do NumPy em todos os elementos.\n",
    "- Concatene essa matriz com uma nova matriz 3x4 de números aleatórios."
   ]
  },
  {
   "cell_type": "code",
   "execution_count": 4,
   "metadata": {},
   "outputs": [
    {
     "name": "stdout",
     "output_type": "stream",
     "text": [
      "Array original: [35 49  5 22 23 33 39  1 13 12 36  1]\n",
      "Array redimensionado:\n",
      " [[35 49  5 22]\n",
      " [23 33 39  1]\n",
      " [13 12 36  1]]\n"
     ]
    }
   ],
   "source": [
    "# criando um array aletório\n",
    "a = rng.integers(50, size=(12))\n",
    "\n",
    "# redimensionando \n",
    "\n",
    "array_redimensionado = np.resize(a, (3,4))\n",
    "\n",
    "print(f'Array original: {a}')\n",
    "print(f'Array redimensionado:\\n {array_redimensionado}')"
   ]
  },
  {
   "cell_type": "markdown",
   "metadata": {},
   "source": [
    "# Desafio 4: Estatísticas e Agregações\n",
    "> Crie um array 2D de 100x10 onde cada elemento seja um número aleatório seguindo uma distribuição normal com média 50 e desvio padrão 10. Agora:\n",
    "\n",
    "- Calcule a média de cada coluna.\n",
    "- Encontre o índice do valor máximo de cada linha.\n",
    "- Filtre o array para obter apenas os valores maiores que 60.\n",
    "- Conte quantos valores são menores que 40."
   ]
  },
  {
   "cell_type": "code",
   "execution_count": 5,
   "metadata": {},
   "outputs": [
    {
     "name": "stdout",
     "output_type": "stream",
     "text": [
      "Média de cada coluna: [49.57673546 49.38488411 50.97021633 50.81795763 49.20991989 51.51823872\n",
      " 49.36241651 48.76979168 50.39287807 49.35384716]\n",
      "valor maximo de cada linha: [59.70055681 71.35445797 61.53500823 69.4678441  71.73304319 60.49796979\n",
      " 68.11953988 75.50966456 65.22800087 73.04871336 70.22444251 67.07320951\n",
      " 56.04512498 67.80376147 64.79056023 65.09048818 61.88673542 68.16025837\n",
      " 75.7745429  66.28550014 64.33649805 68.1953129  58.45662806 66.5169057\n",
      " 63.43741148 70.7362282  60.02101954 63.38315444 79.46432699 70.56104047\n",
      " 76.76322743 67.05668478 73.35235607 65.80229985 60.5578264  62.65232591\n",
      " 63.37552745 71.76506583 56.81831458 77.84634066 61.92719103 61.03018921\n",
      " 61.2979946  61.80765571 56.93620478 64.0295338  62.11503154 70.69220654\n",
      " 71.26123693 65.14894991 69.07313582 67.80867945 68.58583235 57.69735104\n",
      " 62.29558384 62.50701444 62.39907758 62.3859399  64.06941216 68.48855837\n",
      " 65.25445543 75.53546554 69.08148024 61.15668163 61.32180728 67.70300042\n",
      " 68.30672718 69.75257426 61.56235582 66.11253711 63.54299832 54.92733479\n",
      " 61.0547025  67.14783904 68.49373642 61.37743815 63.52324487 66.98878855\n",
      " 71.76647165 64.7188123  58.85261731 59.45258615 65.08900097 57.72413102\n",
      " 65.89234879 65.00094165 71.27850826 65.54741003 75.26593536 65.61753889\n",
      " 57.70873359 58.18763648 59.9261504  65.84768605 63.97211742 78.61350136\n",
      " 65.17122102 71.69540046 72.5560159  57.76976844]\n",
      "valores maiores que 60: [66.26789668 62.75816965 71.35445797 61.53500823 69.4678441  71.73304319\n",
      " 60.49796979 68.11953988 62.00665912 63.19943433 75.50966456 61.16941928\n",
      " 64.01250749 65.22800087 66.97132991 64.18120821 73.04871336 70.22444251\n",
      " 67.07320951 61.94493125 60.88877921 62.98505413 67.80376147 66.22850325\n",
      " 61.38346441 64.67283931 61.40996153 64.79056023 62.73755136 64.47981803\n",
      " 65.09048818 61.88673542 68.16025837 65.01950913 60.93751331 60.45324845\n",
      " 75.7745429  66.28550014 64.33649805 60.76884433 68.1953129  66.5169057\n",
      " 63.11830176 60.31565519 61.17027387 63.43741148 70.7362282  63.00485287\n",
      " 64.51941291 60.02101954 63.38315444 65.27836928 79.46432699 70.00794507\n",
      " 70.56104047 70.16867135 76.76322743 60.16265679 67.05668478 73.35235607\n",
      " 65.80229985 63.0607909  60.5578264  62.65232591 62.08608926 63.37552745\n",
      " 60.84960767 61.86642658 71.76506583 64.29362401 77.84634066 61.92719103\n",
      " 61.03018921 61.2979946  61.80765571 64.0295338  62.11503154 60.25114017\n",
      " 70.69220654 66.56118463 71.26123693 61.60227208 60.20382863 70.78810296\n",
      " 65.14894991 60.00120148 69.07313582 64.50384834 67.80867945 61.37580355\n",
      " 68.58583235 66.72322149 62.29558384 62.50701444 62.39907758 62.3859399\n",
      " 62.94480664 64.06941216 68.48855837 63.74451592 62.8364812  65.25445543\n",
      " 75.53546554 61.66394816 69.08148024 61.95358981 63.51322587 61.32330823\n",
      " 61.15668163 61.32180728 67.70300042 65.05538988 68.30672718 61.44591583\n",
      " 69.75257426 61.56235582 66.11253711 63.54299832 61.0547025  63.82685646\n",
      " 67.14783904 62.16577185 66.35516619 68.49373642 61.37743815 60.24711226\n",
      " 63.52324487 60.90648713 66.98878855 63.64122538 63.18082368 71.76647165\n",
      " 64.7188123  65.08900097 60.9176257  65.89234879 60.35185217 65.00094165\n",
      " 71.27850826 64.80174195 65.54741003 60.96175259 75.26593536 61.61512999\n",
      " 60.24496374 65.61753889 65.84768605 63.97211742 78.61350136 66.7749047\n",
      " 62.8833184  62.94352329 65.17122102 71.69540046 72.5560159 ]\n",
      "contagem dos valores menores que 40: 150 valores\n"
     ]
    }
   ],
   "source": [
    "# Definindo os parâmetros da distribuição normal\n",
    "media = 50\n",
    "desvio_padrao = 10\n",
    "\n",
    "# Criando o array 2D com 100 linhas e 10 colunas\n",
    "array_normal = np.random.normal(loc=media, scale=desvio_padrao, size=(100, 10))\n",
    "\n",
    "# Suponha que 'array_normal' é o array 2D de 100x10 que criamos anteriormente\n",
    "media_por_coluna = np.mean(array_normal, axis=0)\n",
    "\n",
    "# Exibindo as médias de cada coluna\n",
    "print('Média de cada coluna:', media_por_coluna)\n",
    "\n",
    "valor_maximo_linha = np.max(array_normal, axis=1)\n",
    "print('valor maximo de cada linha:', valor_maximo_linha)\n",
    "\n",
    "maior_60 = array_normal[array_normal > 60]\n",
    "print('valores maiores que 60:' , maior_60)\n",
    "\n",
    "menores_40 = len(array_normal[array_normal < 40])\n",
    "\n",
    "print(f'contagem dos valores menores que 40: {menores_40} valores')"
   ]
  },
  {
   "cell_type": "code",
   "execution_count": 25,
   "metadata": {},
   "outputs": [
    {
     "name": "stdout",
     "output_type": "stream",
     "text": [
      "dados: [[ 9  1  6  3]\n",
      " [19 12  3  9]\n",
      " [18 12  3 24]]\n",
      " ------------\n",
      "A média é: 9.916666666666666\n",
      " ------------\n",
      "O desvio é: [[-0.91666667 -8.91666667 -3.91666667 -6.91666667]\n",
      " [ 9.08333333  2.08333333 -6.91666667 -0.91666667]\n",
      " [ 8.08333333  2.08333333 -6.91666667 14.08333333]]\n",
      " ------------\n",
      " a variancia é :[[  0.84027778  79.50694444  15.34027778  47.84027778]\n",
      " [ 82.50694444   4.34027778  47.84027778   0.84027778]\n",
      " [ 65.34027778   4.34027778  47.84027778 198.34027778]]\n",
      " ------------\n",
      " O desvio padrão é:198.30555555555554\n",
      "7.354137157636736\n"
     ]
    }
   ],
   "source": [
    "# gerar dados aleatórios\n",
    "rng=default_rng()\n",
    "a = rng.integers(25, size= (3,4))\n",
    "\n",
    "print(f'dados: {a}\\n ------------')\n",
    "\n",
    "media = a.mean()\n",
    "print(f'A média é: {media}\\n ------------')\n",
    "\n",
    "desvio = a - media\n",
    "print(f'O desvio é: {desvio}\\n ------------')\n",
    "\n",
    "variancia = (desvio ** 2)\n",
    "print(f' a variancia é :{variancia}\\n ------------')\n",
    "\n",
    "desvio_padrao = variancia.sum() / len(a)\n",
    "print(f' O desvio padrão é:{desvio_padrao}')\n",
    "print(np.std(a, ddof=1))\n",
    "\n",
    "#corrigir"
   ]
  }
 ],
 "metadata": {
  "kernelspec": {
   "display_name": "base",
   "language": "python",
   "name": "python3"
  },
  "language_info": {
   "codemirror_mode": {
    "name": "ipython",
    "version": 3
   },
   "file_extension": ".py",
   "mimetype": "text/x-python",
   "name": "python",
   "nbconvert_exporter": "python",
   "pygments_lexer": "ipython3",
   "version": "3.11.7"
  }
 },
 "nbformat": 4,
 "nbformat_minor": 2
}

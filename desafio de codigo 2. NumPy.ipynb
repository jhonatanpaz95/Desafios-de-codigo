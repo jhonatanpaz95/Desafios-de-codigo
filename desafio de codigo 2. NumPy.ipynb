{
 "cells": [
  {
   "cell_type": "markdown",
   "metadata": {},
   "source": [
    "Pedi para o chat gpt cria alguns desafios para eu estuda Numpy."
   ]
  },
  {
   "cell_type": "markdown",
   "metadata": {},
   "source": [
    "# Desafio 1: Operações Básicas com Arrays\n",
    "> Crie dois arrays NumPy de 1D com 10 elementos aleatórios inteiros entre 1 e 100. Em seguida, realize as seguintes operações:\n",
    "\n",
    "- Some os dois arrays.\n",
    "- Multiplique os dois arrays.\n",
    "- Encontre o valor máximo e mínimo de cada array.\n",
    "- Calcule a média e a variância de cada array."
   ]
  },
  {
   "cell_type": "code",
   "execution_count": 16,
   "metadata": {},
   "outputs": [],
   "source": [
    "import numpy as np\n"
   ]
  },
  {
   "cell_type": "code",
   "execution_count": 17,
   "metadata": {},
   "outputs": [
    {
     "name": "stdout",
     "output_type": "stream",
     "text": [
      "[ 5  8 13  9 21  6  3  5  8 15]\n",
      "[  0  15  42  14 110   9   2   6  16  50]\n",
      "[10 11]\n",
      "[4.3 5. ]\n",
      "[8.01 9.6 ]\n"
     ]
    }
   ],
   "source": [
    "# Desafio 1\n",
    "\n",
    "array1 = np.array([0, 5, 6, 7, 10, 3, 1, 2, 4, 5])\n",
    "array2 = np.array([5, 3, 7, 2, 11, 3, 2, 3, 4, 10])\n",
    "\n",
    "soma = array1 + array2\n",
    "multiplicacao = array1 * array2\n",
    "maximo = np.array([array1.max(), array2.max()])\n",
    "media = np.array([array1.mean(), array2.mean()])\n",
    "variancia = np.array([array1.var(), array2.var()])\n",
    "\n",
    "print(soma)\n",
    "print(multiplicacao)\n",
    "print(maximo)\n",
    "print(media)\n",
    "print(variancia)"
   ]
  },
  {
   "cell_type": "markdown",
   "metadata": {},
   "source": [
    "# Desafio 2: Indexação e Slicing\n",
    "> Dado um array NumPy 2D de 5x5 criado com números inteiros de 1 a 25, resolva:\n",
    "\n",
    "- Extraia a segunda linha do array.\n",
    "- Extraia a terceira coluna do array.\n",
    "- Extraia o subarray 3x3 do centro do array.\n",
    "- Substitua os valores da primeira coluna por zero."
   ]
  },
  {
   "cell_type": "code",
   "execution_count": 18,
   "metadata": {},
   "outputs": [
    {
     "name": "stdout",
     "output_type": "stream",
     "text": [
      "[ 0  9 21 12  4]\n",
      "[23 21 11 21 11]\n",
      "[[ 0  9 23 14 11]\n",
      " [ 0  9 21 12  4]\n",
      " [ 0 11 11 15 14]\n",
      " [ 0  4 21 12 10]\n",
      " [ 0 24 11  6 12]]\n",
      "[[ 9 21 12]\n",
      " [11 11 15]\n",
      " [ 4 21 12]]\n"
     ]
    }
   ],
   "source": [
    "# Desafio 2\n",
    "\n",
    "# gerar dados aleatórios\n",
    "from numpy.random import default_rng\n",
    "rng=default_rng()\n",
    "a = rng.integers(25, size= (5,5))\n",
    "\n",
    "# Definição das variaveis \n",
    "segunda_linha = a[1]\n",
    "terceira_coluna = a[:, 2]\n",
    "\n",
    "#substitui os valores da primeira coluna por zero\n",
    "a[:, 0] = 0\n",
    "\n",
    "# Extração do subarray 3x3 do centro\n",
    "subarray_centro = a[1:4, 1:4]\n",
    "\n",
    "print(segunda_linha)\n",
    "print(terceira_coluna)\n",
    "print(a)\n",
    "print(subarray_centro)\n",
    "\n",
    "\n",
    "\n"
   ]
  },
  {
   "cell_type": "markdown",
   "metadata": {},
   "source": [
    "# Desafio 3: Transformações e Redimensionamento\n",
    "> Crie um array 1D com 12 elementos inteiros aleatórios entre 1 e 50. Em seguida:\n",
    "\n",
    "- Redimensione esse array para uma matriz 3x4.\n",
    "- Transponha essa matriz.\n",
    "- Aplique a função sqrt do NumPy em todos os elementos.\n",
    "- Concatene essa matriz com uma nova matriz 3x4 de números aleatórios."
   ]
  },
  {
   "cell_type": "code",
   "execution_count": 22,
   "metadata": {},
   "outputs": [
    {
     "name": "stdout",
     "output_type": "stream",
     "text": [
      "Array original [10 40 26 45  2 38 30 39 25  8 27 34]\n",
      "Array redimensionado:\n",
      " [[10 40 26 45]\n",
      " [ 2 38 30 39]\n",
      " [25  8 27 34]]\n"
     ]
    }
   ],
   "source": [
    "# criando um array aletório\n",
    "a = rng.integers(50, size=(12))\n",
    "\n",
    "# redimensionando \n",
    "\n",
    "array_redimensionado = np.resize(a, (3,4))\n",
    "\n",
    "print(f'Array original: {a}')\n",
    "print(f'Array redimensionado:\\n {array_redimensionado}')"
   ]
  }
 ],
 "metadata": {
  "kernelspec": {
   "display_name": "base",
   "language": "python",
   "name": "python3"
  },
  "language_info": {
   "codemirror_mode": {
    "name": "ipython",
    "version": 3
   },
   "file_extension": ".py",
   "mimetype": "text/x-python",
   "name": "python",
   "nbconvert_exporter": "python",
   "pygments_lexer": "ipython3",
   "version": "3.11.7"
  }
 },
 "nbformat": 4,
 "nbformat_minor": 2
}

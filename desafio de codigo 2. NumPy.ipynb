{
 "cells": [
  {
   "cell_type": "markdown",
   "metadata": {},
   "source": [
    "Pedi para o chat gpt cria alguns desafios para eu estuda Numpy."
   ]
  },
  {
   "cell_type": "markdown",
   "metadata": {},
   "source": [
    "# Desafio 1: Operações Básicas com Arrays\n",
    "> Crie dois arrays NumPy de 1D com 10 elementos aleatórios inteiros entre 1 e 100. Em seguida, realize as seguintes operações:\n",
    "\n",
    "- Some os dois arrays.\n",
    "- Multiplique os dois arrays.\n",
    "- Encontre o valor máximo e mínimo de cada array.\n",
    "- Calcule a média e a variância de cada array."
   ]
  },
  {
   "cell_type": "code",
   "execution_count": 2,
   "metadata": {},
   "outputs": [],
   "source": [
    "import numpy as np\n"
   ]
  },
  {
   "cell_type": "code",
   "execution_count": 3,
   "metadata": {},
   "outputs": [
    {
     "name": "stdout",
     "output_type": "stream",
     "text": [
      "[ 5  8 13  9 21  6  3  5  8 15]\n",
      "[  0  15  42  14 110   9   2   6  16  50]\n",
      "[10 11]\n",
      "[4.3 5. ]\n",
      "[8.01 9.6 ]\n"
     ]
    }
   ],
   "source": [
    "# Desafio 1\n",
    "\n",
    "array1 = np.array([0, 5, 6, 7, 10, 3, 1, 2, 4, 5])\n",
    "array2 = np.array([5, 3, 7, 2, 11, 3, 2, 3, 4, 10])\n",
    "\n",
    "soma = array1 + array2\n",
    "multiplicacao = array1 * array2\n",
    "maximo = np.array([array1.max(), array2.max()])\n",
    "media = np.array([array1.mean(), array2.mean()])\n",
    "variancia = np.array([array1.var(), array2.var()])\n",
    "\n",
    "print(soma)\n",
    "print(multiplicacao)\n",
    "print(maximo)\n",
    "print(media)\n",
    "print(variancia)"
   ]
  },
  {
   "cell_type": "markdown",
   "metadata": {},
   "source": [
    "# Desafio 2: Indexação e Slicing\n",
    "> Dado um array NumPy 2D de 5x5 criado com números inteiros de 1 a 25, resolva:\n",
    "\n",
    "- Extraia a segunda linha do array.\n",
    "- Extraia a terceira coluna do array.\n",
    "- Extraia o subarray 3x3 do centro do array.\n",
    "- Substitua os valores da primeira coluna por zero."
   ]
  },
  {
   "cell_type": "code",
   "execution_count": 4,
   "metadata": {},
   "outputs": [
    {
     "name": "stdout",
     "output_type": "stream",
     "text": [
      "[ 0  0  2 20 21]\n",
      "[ 9  2 20 11 24]\n",
      "[[ 0 20  9  5 16]\n",
      " [ 0  0  2 20 21]\n",
      " [ 0 18 20 24 19]\n",
      " [ 0 16 11 22  6]\n",
      " [ 0 18 24 14  5]]\n",
      "[[ 0  2 20]\n",
      " [18 20 24]\n",
      " [16 11 22]]\n"
     ]
    }
   ],
   "source": [
    "# Desafio 2\n",
    "\n",
    "# gerar dados aleatórios\n",
    "from numpy.random import default_rng\n",
    "rng=default_rng()\n",
    "a = rng.integers(25, size= (5,5))\n",
    "\n",
    "# Definição das variaveis \n",
    "segunda_linha = a[1]\n",
    "terceira_coluna = a[:, 2]\n",
    "\n",
    "#substitui os valores da primeira coluna por zero\n",
    "a[:, 0] = 0\n",
    "\n",
    "# Extração do subarray 3x3 do centro\n",
    "subarray_centro = a[1:4, 1:4]\n",
    "\n",
    "print(segunda_linha)\n",
    "print(terceira_coluna)\n",
    "print(a)\n",
    "print(subarray_centro)\n",
    "\n",
    "\n",
    "\n"
   ]
  },
  {
   "cell_type": "markdown",
   "metadata": {},
   "source": [
    "# Desafio 3: Transformações e Redimensionamento\n",
    "> Crie um array 1D com 12 elementos inteiros aleatórios entre 1 e 50. Em seguida:\n",
    "\n",
    "- Redimensione esse array para uma matriz 3x4.\n",
    "- Transponha essa matriz.\n",
    "- Aplique a função sqrt do NumPy em todos os elementos.\n",
    "- Concatene essa matriz com uma nova matriz 3x4 de números aleatórios."
   ]
  },
  {
   "cell_type": "code",
   "execution_count": 5,
   "metadata": {},
   "outputs": [
    {
     "name": "stdout",
     "output_type": "stream",
     "text": [
      "Array original: [10  9 43 23 10 28  4  3 21 10 40 11]\n",
      "Array redimensionado:\n",
      " [[10  9 43 23]\n",
      " [10 28  4  3]\n",
      " [21 10 40 11]]\n"
     ]
    }
   ],
   "source": [
    "# criando um array aletório\n",
    "a = rng.integers(50, size=(12))\n",
    "\n",
    "# redimensionando \n",
    "\n",
    "array_redimensionado = np.resize(a, (3,4))\n",
    "\n",
    "print(f'Array original: {a}')\n",
    "print(f'Array redimensionado:\\n {array_redimensionado}')"
   ]
  },
  {
   "cell_type": "markdown",
   "metadata": {},
   "source": [
    "# Desafio 4: Estatísticas e Agregações\n",
    "> Crie um array 2D de 100x10 onde cada elemento seja um número aleatório seguindo uma distribuição normal com média 50 e desvio padrão 10. Agora:\n",
    "\n",
    "- Calcule a média de cada coluna.\n",
    "- Encontre o índice do valor máximo de cada linha.\n",
    "- Filtre o array para obter apenas os valores maiores que 60.\n",
    "- Conte quantos valores são menores que 40."
   ]
  },
  {
   "cell_type": "code",
   "execution_count": 37,
   "metadata": {},
   "outputs": [
    {
     "name": "stdout",
     "output_type": "stream",
     "text": [
      "Média de cada coluna: [50.92679589 49.56763925 52.1588961  49.31953865 48.50814009 51.5120877\n",
      " 51.26942153 50.19905185 50.71683754 49.41637539]\n",
      "valor maximo de cada linha: [63.46161197 53.88454565 68.11168676 59.34110501 64.53706916 62.18012768\n",
      " 63.84747441 75.28374909 74.31617293 68.31335169 64.6707681  67.53824\n",
      " 56.29739317 64.7977097  65.36613725 66.56447842 54.45808167 69.77622131\n",
      " 64.1275059  67.43863198 67.96208078 69.0457448  60.2365967  68.43033652\n",
      " 57.99901441 66.21610192 73.73188939 71.2165289  66.59025208 57.34945362\n",
      " 58.87635621 75.94899769 55.92831254 69.07258198 60.65203737 62.39631354\n",
      " 67.80810965 62.69202397 71.7178848  69.84515768 80.11658385 69.63299344\n",
      " 67.83513111 67.27993615 66.34670357 69.73970175 62.51371007 60.4850881\n",
      " 62.8543654  75.33462682 75.07963456 67.13341913 68.409394   64.70949869\n",
      " 62.95003274 62.56981743 65.26312995 74.44431706 63.53483675 58.47976589\n",
      " 64.75491941 59.94911074 55.80670944 70.70255034 68.25350656 69.97167959\n",
      " 59.59525198 59.52269367 72.3873258  57.61262833 73.21448256 56.43678619\n",
      " 63.57064824 76.40430817 70.03224826 52.32614782 66.34319448 65.75419316\n",
      " 65.51816409 77.57564246 64.59094172 69.87293314 79.6090539  72.7649968\n",
      " 69.32419719 61.75263498 66.86434055 73.13106896 70.86443873 60.36302537\n",
      " 69.0815589  64.45738586 67.47679331 62.72793909 66.76636635 73.35260617\n",
      " 76.23788562 69.50932964 64.03659336 71.37812763]\n",
      "valores maiores que 60: [63.46161197 61.80389551 68.11168676 61.67002445 62.10733693 64.53706916\n",
      " 60.35578696 64.5089502  60.15364388 62.18012768 63.84747441 75.28374909\n",
      " 68.83687533 74.31617293 68.31335169 60.4145957  61.98642072 64.6707681\n",
      " 63.3169234  62.44248563 61.70102175 61.53829859 66.05948355 67.53824\n",
      " 64.7977097  61.86700744 65.36613725 66.56447842 62.36382332 61.07176022\n",
      " 62.70080738 63.08811265 69.65792282 69.77622131 64.1275059  67.43863198\n",
      " 61.58251572 66.2558345  61.2657556  62.64900844 67.68990857 67.96208078\n",
      " 69.0457448  60.2365967  68.43033652 60.21181824 62.93313143 63.24503329\n",
      " 66.21610192 73.73188939 61.47256327 65.04983325 66.84274059 62.98386724\n",
      " 71.2165289  66.59025208 60.31612393 67.12377704 75.94899769 60.82258743\n",
      " 67.01783116 64.45451968 69.07258198 60.65203737 62.39631354 60.5927362\n",
      " 63.85888692 67.80810965 62.26984938 62.69202397 71.7178848  60.12215281\n",
      " 61.58102283 63.76471805 64.96459153 69.84515768 80.11658385 69.63299344\n",
      " 63.22280492 67.72204131 64.22866827 67.83513111 61.69749723 64.54611793\n",
      " 67.27993615 66.34670357 69.73970175 62.51371007 60.4850881  62.8543654\n",
      " 61.28241848 61.48294548 75.33462682 60.50883087 75.07963456 66.80356677\n",
      " 63.01502085 60.79230631 67.13341913 63.34618766 68.409394   63.32404017\n",
      " 64.70949869 62.95003274 62.56981743 65.26312995 74.44431706 61.41949689\n",
      " 62.79091217 63.53483675 64.75491941 61.05484419 70.70255034 68.48557008\n",
      " 64.03853658 60.23844089 68.25350656 62.39968126 69.97167959 61.30147664\n",
      " 72.3873258  71.76460791 63.30381046 73.21448256 65.45749933 63.57064824\n",
      " 76.40430817 70.03224826 65.58749672 65.00730146 66.34319448 63.52551302\n",
      " 64.40490006 64.46235026 65.75419316 61.83569243 65.51816409 61.70315521\n",
      " 77.57564246 64.52231002 60.56183178 64.59094172 69.87293314 62.86012329\n",
      " 79.6090539  64.92916347 72.7649968  69.32419719 61.75263498 66.86434055\n",
      " 65.96992669 73.13106896 70.86443873 60.38365345 64.13994514 60.36302537\n",
      " 63.84261813 61.24538759 69.0815589  64.45738586 61.13843552 61.06707327\n",
      " 67.47679331 62.72793909 66.76636635 63.71962255 60.44078318 61.29168502\n",
      " 66.19518927 73.35260617 61.9587991  65.38790178 76.23788562 69.50932964\n",
      " 64.03659336 71.37812763]\n",
      "contagem dos valores menores que 40: 159 valrores\n"
     ]
    }
   ],
   "source": [
    "# Definindo os parâmetros da distribuição normal\n",
    "media = 50\n",
    "desvio_padrao = 10\n",
    "\n",
    "# Criando o array 2D com 100 linhas e 10 colunas\n",
    "array_normal = np.random.normal(loc=media, scale=desvio_padrao, size=(100, 10))\n",
    "\n",
    "# Suponha que 'array_normal' é o array 2D de 100x10 que criamos anteriormente\n",
    "media_por_coluna = np.mean(array_normal, axis=0)\n",
    "\n",
    "# Exibindo as médias de cada coluna\n",
    "print('Média de cada coluna:', media_por_coluna)\n",
    "\n",
    "valor_maximo_linha = np.max(array_normal, axis=1)\n",
    "print('valor maximo de cada linha:', valor_maximo_linha)\n",
    "\n",
    "maior_60 = array_normal[array_normal > 60]\n",
    "print('valores maiores que 60:' , maior_60)\n",
    "\n",
    "menores_40 = len(array_normal[array_normal < 40])\n",
    "\n",
    "print(f'contagem dos valores menores que 40: {menores_40} valores')"
   ]
  }
 ],
 "metadata": {
  "kernelspec": {
   "display_name": "base",
   "language": "python",
   "name": "python3"
  },
  "language_info": {
   "codemirror_mode": {
    "name": "ipython",
    "version": 3
   },
   "file_extension": ".py",
   "mimetype": "text/x-python",
   "name": "python",
   "nbconvert_exporter": "python",
   "pygments_lexer": "ipython3",
   "version": "3.11.7"
  }
 },
 "nbformat": 4,
 "nbformat_minor": 2
}
